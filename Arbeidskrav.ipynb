{
 "cells": [
  {
   "cell_type": "code",
   "execution_count": 49,
   "id": "28c83e7d-247c-4f47-9fbb-fb91995e20b5",
   "metadata": {},
   "outputs": [
    {
     "name": "stdout",
     "output_type": "stream",
     "text": [
      "Totalkostnad Bensinbil = 23558.7  og Totalkostnad ELbil = 13058.7\n",
      "Differansen er totalt = 10500.0\n"
     ]
    }
   ],
   "source": [
    "# [Totalkostnad for Bensinbil, forbruk + bom pr år, trafikkforsikring, forsikring]\n",
    "TKBL = (10000 * 1) + (0.3 * 10000) + (8.38 * 365) + 7500 \n",
    "\n",
    "# [Totalkostnad for ELbil, forbruk og strømavgift+ bom pr år, trafikkforsikring, forsikring]\n",
    "TKELBL = (10000 * 0.2) * 2 + (0.1 * 10000 ) + (8.38 * 365) + 5000\n",
    "\n",
    "Totaldiff = TKBL - TKELBL\n",
    "\n",
    "print('Totalkostnad Bensinbil =', TKBL, ' og Totalkostnad ELbil =', TKELBL )\n",
    "print('Differansen er totalt =', Totaldiff)"
   ]
  },
  {
   "cell_type": "code",
   "execution_count": null,
   "id": "4768365c-f87a-4101-83d5-09b6ac823f27",
   "metadata": {},
   "outputs": [],
   "source": []
  }
 ],
 "metadata": {
  "kernelspec": {
   "display_name": "anaconda-panel-2023.05-py310",
   "language": "python",
   "name": "conda-env-anaconda-panel-2023.05-py310-py"
  },
  "language_info": {
   "codemirror_mode": {
    "name": "ipython",
    "version": 3
   },
   "file_extension": ".py",
   "mimetype": "text/x-python",
   "name": "python",
   "nbconvert_exporter": "python",
   "pygments_lexer": "ipython3",
   "version": "3.11.5"
  }
 },
 "nbformat": 4,
 "nbformat_minor": 5
}
